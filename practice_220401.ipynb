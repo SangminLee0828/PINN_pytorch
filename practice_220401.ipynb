{
 "cells": [
  {
   "cell_type": "code",
   "execution_count": 4,
   "metadata": {
    "collapsed": true
   },
   "outputs": [],
   "source": [
    "import numpy as np\n",
    "import os\n",
    "import matplotlib.pyplot as plt\n",
    "from tqdm import tqdm\n",
    "from torchvision import transforms\n",
    "\n",
    "import torch\n",
    "import torch.nn as nn\n",
    "import mat73\n",
    "from pathlib import Path\n",
    "import os\n",
    "from torchsummary import summary\n",
    "\n",
    "os.environ['CUDA_LAUNCH_BLOCKING'] = \"1\"\n",
    "device = torch.device(\"cuda:0\" if torch.cuda.is_available() else \"cpu\")\n",
    "torch.set_default_dtype(torch.float32)"
   ]
  },
  {
   "cell_type": "code",
   "execution_count": 22,
   "outputs": [],
   "source": [
    "path_dataset_folder = Path('./data/[1] simple linear')\n",
    "\n",
    "path_file_input = path_dataset_folder / 'xTrain.mat'\n",
    "path_file_output = path_dataset_folder / 'yTrain.mat'\n",
    "path_train_data = (path_file_input, path_file_output)\n",
    "torch.set_default_dtype(torch.float32)\n",
    "\n",
    "class MyDataset(torch.utils.data.Dataset):\n",
    "    def __init__(self, path_train_data):\n",
    "        self.input_data = mat73.loadmat(path_train_data[0])\n",
    "        self.output_data = mat73.loadmat(path_train_data[1])\n",
    "        # input_x = input_data['input'][:,0]\n",
    "        # input_t = input_data['input'][:,1]\n",
    "        # output_u = output_data['output']\n",
    "\n",
    "    def __len__(self):\n",
    "        return len(self.input_data['input'])\n",
    "\n",
    "    def __getitem__(self, i):\n",
    "        # input_data_sample = torch.from_numpy(self.input_data['input'][i, :], dtype=torch.float32)\n",
    "        input_data_x = torch.from_numpy(np.asarray(self.input_data['input'][i, 0].astype('float32'))).unsqueeze(0)\n",
    "        input_data_t = torch.from_numpy(np.asarray(self.input_data['input'][i, 1].astype('float32'))).unsqueeze(0)\n",
    "        # output_data_sample = torch.from_numpy(self.output_data['output'][i], dtype=torch.float32)\n",
    "        output_data_sample = torch.from_numpy(np.asarray(self.output_data['output'][i].astype('float32')))\n",
    "        return input_data_x, input_data_t, output_data_sample\n",
    "\n",
    "dataset_simple = MyDataset(path_train_data)\n",
    "my_batch_size = int(np.power(2, 12))\n",
    "train_dataloader=torch.utils.data.DataLoader(dataset_simple, batch_size=my_batch_size, shuffle=True)"
   ],
   "metadata": {
    "collapsed": false,
    "pycharm": {
     "name": "#%%\n"
    }
   }
  },
  {
   "cell_type": "code",
   "execution_count": 29,
   "outputs": [
    {
     "name": "stderr",
     "output_type": "stream",
     "text": [
      "2it [00:00, 13.97it/s]"
     ]
    },
    {
     "name": "stdout",
     "output_type": "stream",
     "text": [
      "torch.Size([4096])\n",
      "torch.Size([4096])\n",
      "torch.Size([4096])\n",
      "torch.Size([4096])\n"
     ]
    },
    {
     "name": "stderr",
     "output_type": "stream",
     "text": [
      "8it [00:00, 17.88it/s]"
     ]
    },
    {
     "name": "stdout",
     "output_type": "stream",
     "text": [
      "torch.Size([4096])\n",
      "torch.Size([4096])\n",
      "torch.Size([4096])\n",
      "torch.Size([3621])\n"
     ]
    },
    {
     "name": "stderr",
     "output_type": "stream",
     "text": [
      "\n"
     ]
    }
   ],
   "source": [
    "for i, (train_input_x, train_input_t, train_output) in tqdm(enumerate(train_dataloader)):\n",
    "    # print(train_output)\n",
    "    print(train_output.size())"
   ],
   "metadata": {
    "collapsed": false,
    "pycharm": {
     "name": "#%%\n"
    }
   }
  },
  {
   "cell_type": "code",
   "execution_count": 33,
   "outputs": [],
   "source": [
    "train_input_x = train_input_x.to(device)\n",
    "train_input_t = train_input_t.to(device)\n",
    "train_output = train_output.to(device)\n",
    "\n",
    "train_input_x.requires_grad = True\n",
    "train_input_t.requires_grad = True\n"
   ],
   "metadata": {
    "collapsed": false,
    "pycharm": {
     "name": "#%%\n"
    }
   }
  },
  {
   "cell_type": "code",
   "execution_count": 45,
   "outputs": [
    {
     "data": {
      "text/plain": "torch.Size([3621, 1])"
     },
     "execution_count": 45,
     "metadata": {},
     "output_type": "execute_result"
    }
   ],
   "source": [
    "train_input_x.size()"
   ],
   "metadata": {
    "collapsed": false,
    "pycharm": {
     "name": "#%%\n"
    }
   }
  },
  {
   "cell_type": "code",
   "execution_count": 26,
   "outputs": [],
   "source": [
    "bb = torch.cat((train_input_x, train_input_t), dim=1)\n",
    "# bb = torch.hstack((train_input_x, train_input_t))"
   ],
   "metadata": {
    "collapsed": false,
    "pycharm": {
     "name": "#%%\n"
    }
   }
  },
  {
   "cell_type": "code",
   "execution_count": 27,
   "outputs": [
    {
     "data": {
      "text/plain": "torch.Size([3621, 2])"
     },
     "execution_count": 27,
     "metadata": {},
     "output_type": "execute_result"
    }
   ],
   "source": [
    "bb.size()"
   ],
   "metadata": {
    "collapsed": false,
    "pycharm": {
     "name": "#%%\n"
    }
   }
  },
  {
   "cell_type": "code",
   "execution_count": 21,
   "outputs": [],
   "source": [
    "a = torch.tensor([1, 2, 3])"
   ],
   "metadata": {
    "collapsed": false,
    "pycharm": {
     "name": "#%%\n"
    }
   }
  },
  {
   "cell_type": "code",
   "execution_count": 28,
   "outputs": [],
   "source": [
    "class my_bench_model(nn.Module):\n",
    "    def __init__(self):\n",
    "        super(my_bench_model, self).__init__()\n",
    "        #You code after this line\n",
    "\n",
    "        self.my_layer = nn.Sequential(nn.Linear(2, 60),\n",
    "                                 nn.Tanh(),\n",
    "                                 nn.Linear(60, 60),\n",
    "                                 nn.Tanh(),\n",
    "                                 nn.Linear(60, 60),\n",
    "                                 nn.Tanh(),\n",
    "                                 nn.Linear(60, 60),\n",
    "                                 nn.Tanh(),\n",
    "                                 nn.Linear(60, 60),\n",
    "                                 nn.Tanh(),\n",
    "                                 nn.Linear(60, 1))\n",
    "\n",
    "    def forward(self, x, t):\n",
    "        #You code after this line\n",
    "        x = torch.cat((train_input_x, train_input_t), dim=1)\n",
    "        x = self.my_layer(x)\n",
    "        return x\n",
    "\n",
    "model = my_bench_model().to(device)"
   ],
   "metadata": {
    "collapsed": false,
    "pycharm": {
     "name": "#%%\n"
    }
   }
  },
  {
   "cell_type": "code",
   "execution_count": 34,
   "outputs": [],
   "source": [
    "model_predict = model(train_input_x, train_input_t)"
   ],
   "metadata": {
    "collapsed": false,
    "pycharm": {
     "name": "#%%\n"
    }
   }
  },
  {
   "cell_type": "code",
   "execution_count": 35,
   "outputs": [
    {
     "data": {
      "text/plain": "torch.Size([3621, 1])"
     },
     "execution_count": 35,
     "metadata": {},
     "output_type": "execute_result"
    }
   ],
   "source": [
    "model_predict.size()"
   ],
   "metadata": {
    "collapsed": false,
    "pycharm": {
     "name": "#%%\n"
    }
   }
  },
  {
   "cell_type": "code",
   "execution_count": 44,
   "outputs": [
    {
     "data": {
      "text/plain": "torch.Size([3621, 1])"
     },
     "execution_count": 44,
     "metadata": {},
     "output_type": "execute_result"
    }
   ],
   "source": [
    "train_input_x.size()"
   ],
   "metadata": {
    "collapsed": false,
    "pycharm": {
     "name": "#%%\n"
    }
   }
  },
  {
   "cell_type": "code",
   "execution_count": 38,
   "outputs": [],
   "source": [
    "derivs = dict()\n",
    "\n",
    "derivs['du_dx'], derivs['du_dt'] = torch.autograd.grad(model_predict, (train_input_x, train_input_t), create_graph=True, grad_outputs=torch.ones_like(model_predict))"
   ],
   "metadata": {
    "collapsed": false,
    "pycharm": {
     "name": "#%%\n"
    }
   }
  },
  {
   "cell_type": "code",
   "execution_count": 39,
   "outputs": [
    {
     "data": {
      "text/plain": "{'du_dx': tensor([[0.0102],\n         [0.0102],\n         [0.0091],\n         ...,\n         [0.0098],\n         [0.0103],\n         [0.0107]], device='cuda:0', grad_fn=<SliceBackward0>),\n 'du_dt': tensor([[0.0078],\n         [0.0078],\n         [0.0078],\n         ...,\n         [0.0078],\n         [0.0078],\n         [0.0077]], device='cuda:0', grad_fn=<SliceBackward0>)}"
     },
     "execution_count": 39,
     "metadata": {},
     "output_type": "execute_result"
    }
   ],
   "source": [
    "derivs"
   ],
   "metadata": {
    "collapsed": false,
    "pycharm": {
     "name": "#%%\n"
    }
   }
  },
  {
   "cell_type": "code",
   "execution_count": null,
   "outputs": [],
   "source": [],
   "metadata": {
    "collapsed": false,
    "pycharm": {
     "name": "#%%\n"
    }
   }
  },
  {
   "cell_type": "code",
   "execution_count": null,
   "outputs": [],
   "source": [
    "def train_multiple_epochs(model, num_epochs, train_dataloader, test_dataloader, loss_function, optimizer,device,test_frequency=5):\n",
    "\n",
    "    for epoch in range(1,num_epochs+1):\n",
    "        print(\"Starting epoch number \" + str(epoch))\n",
    "        train_loss,model = train_classifier_one_epoch(train_dataloader, model, loss_function, optimizer,device)\n",
    "        print(\"Loss for Training on Epoch \" +str(epoch) + \" is \"+ str(train_loss))\n",
    "        if(epoch%test_frequency==0 or epoch==1 or epoch==num_epochs):\n",
    "            test_classifier(test_dataloader, model)\n",
    "    return model"
   ],
   "metadata": {
    "collapsed": false,
    "pycharm": {
     "name": "#%%\n"
    }
   }
  },
  {
   "cell_type": "code",
   "execution_count": null,
   "outputs": [],
   "source": [],
   "metadata": {
    "collapsed": false,
    "pycharm": {
     "name": "#%%\n"
    }
   }
  },
  {
   "cell_type": "code",
   "execution_count": null,
   "outputs": [],
   "source": [],
   "metadata": {
    "collapsed": false,
    "pycharm": {
     "name": "#%%\n"
    }
   }
  },
  {
   "cell_type": "code",
   "execution_count": null,
   "outputs": [],
   "source": [],
   "metadata": {
    "collapsed": false,
    "pycharm": {
     "name": "#%%\n"
    }
   }
  },
  {
   "cell_type": "code",
   "execution_count": null,
   "outputs": [],
   "source": [],
   "metadata": {
    "collapsed": false,
    "pycharm": {
     "name": "#%%\n"
    }
   }
  }
 ],
 "metadata": {
  "kernelspec": {
   "display_name": "Python 3",
   "language": "python",
   "name": "python3"
  },
  "language_info": {
   "codemirror_mode": {
    "name": "ipython",
    "version": 2
   },
   "file_extension": ".py",
   "mimetype": "text/x-python",
   "name": "python",
   "nbconvert_exporter": "python",
   "pygments_lexer": "ipython2",
   "version": "2.7.6"
  }
 },
 "nbformat": 4,
 "nbformat_minor": 0
}